{
  "nbformat": 4,
  "nbformat_minor": 0,
  "metadata": {
    "colab": {
      "name": "Coding_Motivation_LTG_Day#3.ipynb",
      "provenance": [],
      "collapsed_sections": [],
      "authorship_tag": "ABX9TyOUx1BEyQhJWb8l+8qbqaH4",
      "include_colab_link": true
    },
    "kernelspec": {
      "name": "python3",
      "display_name": "Python 3"
    }
  },
  "cells": [
    {
      "cell_type": "markdown",
      "metadata": {
        "id": "view-in-github",
        "colab_type": "text"
      },
      "source": [
        "<a href=\"https://colab.research.google.com/github/ScriptKKiddie/LTG-Coding-Motivation-Python/blob/main/Coding_Motivation_LTG_Day_3.ipynb\" target=\"_parent\"><img src=\"https://colab.research.google.com/assets/colab-badge.svg\" alt=\"Open In Colab\"/></a>"
      ]
    },
    {
      "cell_type": "markdown",
      "metadata": {
        "id": "XW5DwOuEKDs_"
      },
      "source": [
        "# **[LEARN. TEACH. GROW.](https://www.technical0812.com/betechnical) Coding + Motivation**\n",
        "\n",
        "Python with [Shobhit Sharma](https://www.linkedin.com/in/scriptkkiddie)"
      ]
    },
    {
      "cell_type": "markdown",
      "metadata": {
        "id": "WWIX2mR5JsiO"
      },
      "source": [
        "Make a list"
      ]
    },
    {
      "cell_type": "code",
      "metadata": {
        "id": "eHX1NiFLKUuy"
      },
      "source": [
        "ltg_members = ['shobhit', 'rohit', 'tinkal']"
      ],
      "execution_count": null,
      "outputs": []
    },
    {
      "cell_type": "markdown",
      "metadata": {
        "id": "pgtDMvSFKgwQ"
      },
      "source": [
        "Get the first item in a list"
      ]
    },
    {
      "cell_type": "code",
      "metadata": {
        "id": "4Z-d30SFKoyu"
      },
      "source": [
        "first_member = ltg_members[0]"
      ],
      "execution_count": null,
      "outputs": []
    },
    {
      "cell_type": "markdown",
      "metadata": {
        "id": "aebadiXMKu8M"
      },
      "source": [
        "Get the last item in a list"
      ]
    },
    {
      "cell_type": "code",
      "metadata": {
        "id": "c08hen09K2iE"
      },
      "source": [
        "last_member = ltg_members[-1]"
      ],
      "execution_count": null,
      "outputs": []
    },
    {
      "cell_type": "markdown",
      "metadata": {
        "id": "Khl_qF-oK89T"
      },
      "source": [
        "Looping through a list"
      ]
    },
    {
      "cell_type": "code",
      "metadata": {
        "id": "_RYCddmeLDX2"
      },
      "source": [
        "for member in ltg_members:\n",
        "  print(member)"
      ],
      "execution_count": null,
      "outputs": []
    },
    {
      "cell_type": "markdown",
      "metadata": {
        "id": "e9UtnfQqLLga"
      },
      "source": [
        "Adding items to a list"
      ]
    },
    {
      "cell_type": "code",
      "metadata": {
        "id": "aDNVHRR5LU0G"
      },
      "source": [
        "ltg_mem = []\n",
        "ltg_mem.append('atisha')\n",
        "ltg_mem.append('shruti')\n",
        "ltg_mem.append('nitin')\n",
        "ltg_mem.append('megha')"
      ],
      "execution_count": null,
      "outputs": []
    },
    {
      "cell_type": "markdown",
      "metadata": {
        "id": "KoZBMlNlLxBy"
      },
      "source": [
        "Making numerical lists"
      ]
    },
    {
      "cell_type": "code",
      "metadata": {
        "id": "HkOS84idL55o"
      },
      "source": [
        "squares = []\n",
        "for x in range(1, 11):\n",
        "  squares.append(x**2)"
      ],
      "execution_count": null,
      "outputs": []
    },
    {
      "cell_type": "markdown",
      "metadata": {
        "id": "Aj5F705UM7ie"
      },
      "source": [
        "List comprehensions"
      ]
    },
    {
      "cell_type": "code",
      "metadata": {
        "id": "wCjKNUDMNDYM"
      },
      "source": [
        "squares = [x**2 for x in range(1, 11)]"
      ],
      "execution_count": null,
      "outputs": []
    },
    {
      "cell_type": "markdown",
      "metadata": {
        "id": "e5kdm8MnNFn9"
      },
      "source": [
        "Slicing a list"
      ]
    },
    {
      "cell_type": "code",
      "metadata": {
        "id": "NXmrd-MWNQwV"
      },
      "source": [
        "members = ['shobhit', 'tinkal', 'mukund', 'nandini', 'neelu']\n",
        "first_three = members[:3]"
      ],
      "execution_count": null,
      "outputs": []
    },
    {
      "cell_type": "markdown",
      "metadata": {
        "id": "MR-hsfRdNUtj"
      },
      "source": [
        "Copying a list"
      ]
    },
    {
      "cell_type": "code",
      "metadata": {
        "id": "1K4QQkWdNXqE"
      },
      "source": [
        "copy_of_ltg_mem = ltg_mem[:]"
      ],
      "execution_count": null,
      "outputs": []
    }
  ]
}