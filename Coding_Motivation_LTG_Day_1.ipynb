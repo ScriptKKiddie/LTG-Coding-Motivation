{
  "nbformat": 4,
  "nbformat_minor": 0,
  "metadata": {
    "colab": {
      "name": "Coding_Motivation_LTG_Day#1.ipynb",
      "provenance": [],
      "authorship_tag": "ABX9TyOPYhtCyxEdg+eCieLvUR/E",
      "include_colab_link": true
    },
    "kernelspec": {
      "name": "python3",
      "display_name": "Python 3"
    }
  },
  "cells": [
    {
      "cell_type": "markdown",
      "metadata": {
        "id": "view-in-github",
        "colab_type": "text"
      },
      "source": [
        "<a href=\"https://colab.research.google.com/github/ScriptKKiddie/LTG-Coding-Motivation-Python/blob/main/Coding_Motivation_LTG_Day_1.ipynb\" target=\"_parent\"><img src=\"https://colab.research.google.com/assets/colab-badge.svg\" alt=\"Open In Colab\"/></a>"
      ]
    },
    {
      "cell_type": "markdown",
      "metadata": {
        "id": "TvLNxLxSi0Xh"
      },
      "source": [
        "# **[LEARN. TEACH. GROW.](https://www.technical0812.com/betechnical) Coding + Motivation**\n",
        "\n",
        "Python with [Shobhit Sharma](https://www.linkedin.com/in/scriptkkiddie)"
      ]
    },
    {
      "cell_type": "code",
      "metadata": {
        "id": "CTT1Ai2QhIcW",
        "outputId": "9bc49070-0815-403f-9415-9cceb7c3bc7f",
        "colab": {
          "base_uri": "https://localhost:8080/",
          "height": 35
        }
      },
      "source": [
        "print(\"Hello\")"
      ],
      "execution_count": null,
      "outputs": [
        {
          "output_type": "stream",
          "text": [
            "Hello\n"
          ],
          "name": "stdout"
        }
      ]
    }
  ]
}