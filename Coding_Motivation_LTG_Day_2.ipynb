{
  "nbformat": 4,
  "nbformat_minor": 0,
  "metadata": {
    "colab": {
      "name": "Coding_Motivation_LTG_Day#2.ipynb",
      "provenance": [],
      "collapsed_sections": [],
      "authorship_tag": "ABX9TyNT42+YUVk7R9FmtPQcDg7E",
      "include_colab_link": true
    },
    "kernelspec": {
      "name": "python3",
      "display_name": "Python 3"
    }
  },
  "cells": [
    {
      "cell_type": "markdown",
      "metadata": {
        "id": "view-in-github",
        "colab_type": "text"
      },
      "source": [
        "<a href=\"https://colab.research.google.com/github/ScriptKKiddie/LTG-Coding-Motivation-Python/blob/main/Coding_Motivation_LTG_Day_2.ipynb\" target=\"_parent\"><img src=\"https://colab.research.google.com/assets/colab-badge.svg\" alt=\"Open In Colab\"/></a>"
      ]
    },
    {
      "cell_type": "markdown",
      "metadata": {
        "id": "LCm8t8LwcN3Q"
      },
      "source": [
        "# **[LEARN. TEACH. GROW.](https://www.technical0812.com/betechnical) Coding + Motivation**\n",
        "\n",
        "Python with [Shobhit Sharma](https://www.linkedin.com/in/scriptkkiddie)"
      ]
    },
    {
      "cell_type": "markdown",
      "metadata": {
        "id": "0_ccK_e_cvxU"
      },
      "source": [
        "Hello world"
      ]
    },
    {
      "cell_type": "code",
      "metadata": {
        "id": "3tWHpR6LcVXR"
      },
      "source": [
        "print(\"Hello world!\")"
      ],
      "execution_count": null,
      "outputs": []
    },
    {
      "cell_type": "markdown",
      "metadata": {
        "id": "eLNjVZPYc6Y4"
      },
      "source": [
        "Hello world with a variable"
      ]
    },
    {
      "cell_type": "code",
      "metadata": {
        "id": "dt4krRLpdGxn"
      },
      "source": [
        "msg = \"Hello world!\"\n",
        "print(msg)"
      ],
      "execution_count": null,
      "outputs": []
    },
    {
      "cell_type": "markdown",
      "metadata": {
        "id": "iWwXRPrXdPXU"
      },
      "source": [
        "Concatenation (combining strings)"
      ]
    },
    {
      "cell_type": "code",
      "metadata": {
        "id": "mnYOJp2SdWRk"
      },
      "source": [
        "first_name = 'shobhit'\n",
        "last_name = 'sharma'\n",
        "full_name = first_name + ' ' + last_name\n",
        "print(full_name)"
      ],
      "execution_count": null,
      "outputs": []
    }
  ]
}